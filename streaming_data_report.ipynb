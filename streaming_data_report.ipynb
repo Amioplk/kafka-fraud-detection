{
 "cells": [
  {
   "cell_type": "markdown",
   "id": "f8633103",
   "metadata": {},
   "source": [
    "# Fraudulent click detector - Report\n",
    "\n",
    "In this notebook, we are going to analyse the file produced by our detectors."
   ]
  },
  {
   "cell_type": "markdown",
   "id": "9ad58ff5",
   "metadata": {},
   "source": [
    "## Imported libraries"
   ]
  },
  {
   "cell_type": "code",
   "execution_count": 9,
   "id": "6ebb0b37",
   "metadata": {},
   "outputs": [],
   "source": [
    "import json\n",
    "from matplotlib import pyplot as plt\n",
    "import numpy as np\n",
    "import pandas as pd"
   ]
  },
  {
   "cell_type": "markdown",
   "id": "69004dc6",
   "metadata": {},
   "source": [
    "## Utils Functions"
   ]
  },
  {
   "cell_type": "code",
   "execution_count": 133,
   "id": "0de394a0",
   "metadata": {},
   "outputs": [],
   "source": [
    "class Event():\n",
    "    topic = \"\"\n",
    "    uid = \"\"\n",
    "    ip = \"\"\n",
    "    timestamp = 0\n",
    "    impressionId = \"\"\n",
    "    \n",
    "    def __init__(self, jsline):\n",
    "        obj = json.loads(jsline)\n",
    "        self.topic = obj['eventType']\n",
    "        self.uid = obj['uid']\n",
    "        self.ip = obj['ip']\n",
    "        self.timestamp = obj['timestamp']\n",
    "        self.impressionId = obj['impressionId']\n",
    "\n",
    "def create_df_from_file(filename):\n",
    "    dico = []\n",
    "    with open(filename) as f:\n",
    "        for line in f :\n",
    "            line = line[6:-2].replace(' ', '').replace(\"'\", '\"').replace('=', ':')\n",
    "            elements = []\n",
    "            for e in line.split(',') :\n",
    "                idx = e.index(':')\n",
    "                result = '\"' + e[:idx] + '\"' + e[idx:] \n",
    "                elements.append(result)\n",
    "            line = '{' + ','.join(elements) + '}'\n",
    "            data = json.loads(line)\n",
    "            dico.append(data)\n",
    "    return pd.DataFrame(dico)\n",
    "\n",
    "def length_of_df(df):\n",
    "    return len(df.index)\n",
    "\n",
    "def get_ctr(df):\n",
    "    n_displays = len(df[df.eventType=='display'].index)\n",
    "    n_clicks = len(df[df.eventType=='click'].index)\n",
    "    ctr = n_clicks / float(n_displays)\n",
    "    print(\"The click-through-rate equals {:.1f}%.\".format(100*ctr))\n",
    "    return ctr\n",
    "\n",
    "def get_ctr_after_fraud(df, invalid_df):\n",
    "    n_displays = len(df[df.eventType=='display'].index)\n",
    "    n_clicks = len(df[df.eventType=='click'].index)\n",
    "    n_invalid = len(invalid_df.index)\n",
    "    print(\"{:d} clicks have been detected as fraudulent out of {:d} clicks.\".format(n_invalid, n_clicks))\n",
    "    ctr = (n_clicks - n_invalid) / float(n_displays)\n",
    "    print(\"The click-through-rate equals {:.1f}%.\".format(100*ctr))\n",
    "    return ctr"
   ]
  },
  {
   "cell_type": "code",
   "execution_count": 122,
   "id": "4b7cf1d5",
   "metadata": {},
   "outputs": [],
   "source": [
    "global_filename = \"initial_stream.txt\"\n",
    "pattern1_filename = \"pattern_1.txt\"\n",
    "pattern2_filename = \"pattern_2.txt\"\n",
    "pattern3_filename = \"pattern_3.txt\"\n",
    "\n",
    "initial_df = create_df_from_file(global_filename)\n",
    "pattern1_df = create_df_from_file(pattern1_filename)\n",
    "pattern2_df = create_df_from_file(pattern2_filename)\n",
    "pattern3_df = create_df_from_file(pattern3_filename)\n",
    "\n",
    "fraudulent_df = pattern1_df.append(pattern2_df).append(pattern3_df).drop_duplicates()"
   ]
  },
  {
   "cell_type": "markdown",
   "id": "16a142c1",
   "metadata": {},
   "source": [
    "## Click-through-rate\n",
    "\n",
    "We first compute the CTR of the initial stream, and get a rate of 34%.\n",
    "then, we compute the CTR of the stream where all suspicious clicks are removed and get a rate of ..."
   ]
  },
  {
   "cell_type": "code",
   "execution_count": 131,
   "id": "2331c921",
   "metadata": {},
   "outputs": [
    {
     "name": "stdout",
     "output_type": "stream",
     "text": [
      "The click-through-rate equals 34.3%.\n"
     ]
    },
    {
     "data": {
      "text/plain": [
       "0.34277238403452"
      ]
     },
     "execution_count": 131,
     "metadata": {},
     "output_type": "execute_result"
    }
   ],
   "source": [
    "get_ctr(initial_df)"
   ]
  },
  {
   "cell_type": "code",
   "execution_count": 132,
   "id": "af40273f",
   "metadata": {},
   "outputs": [
    {
     "name": "stdout",
     "output_type": "stream",
     "text": [
      "1161 clicks have been detected as fraudulent out of 1271 clicks.\n",
      "The click-through-rate equals 3.0%.\n"
     ]
    },
    {
     "data": {
      "text/plain": [
       "0.0296655879180151"
      ]
     },
     "execution_count": 132,
     "metadata": {},
     "output_type": "execute_result"
    }
   ],
   "source": [
    "get_ctr_after_fraud(initial_df, fraudulent_df)"
   ]
  },
  {
   "cell_type": "markdown",
   "id": "39f05699",
   "metadata": {},
   "source": [
    "## Patterns detector"
   ]
  },
  {
   "cell_type": "code",
   "execution_count": 134,
   "id": "775a3ee4",
   "metadata": {},
   "outputs": [
    {
     "name": "stdout",
     "output_type": "stream",
     "text": [
      "The pattern that detects clicks without corresponding displays flagged 1110 clicks.\n",
      "The pattern that detects clicks that occured too fast flagged 80 clicks.\n",
      "The pattern that detects clicks with hyperactive IP addresses 521 clicks.\n"
     ]
    }
   ],
   "source": [
    "print(\"The pattern that detects clicks without corresponding displays flagged {:d} clicks.\"\n",
    "     .format(length_of_df(pattern1_df)))\n",
    "print(\"The pattern that detects clicks that occured too fast flagged {:d} clicks.\"\n",
    "     .format(length_of_df(pattern2_df)))\n",
    "print(\"The pattern that detects clicks with hyperactive IP addresses {:d} clicks.\"\n",
    "     .format(length_of_df(pattern3_df)))"
   ]
  },
  {
   "cell_type": "code",
   "execution_count": null,
   "id": "6e814126",
   "metadata": {},
   "outputs": [],
   "source": []
  }
 ],
 "metadata": {
  "kernelspec": {
   "display_name": "Python 3",
   "language": "python",
   "name": "python3"
  },
  "language_info": {
   "codemirror_mode": {
    "name": "ipython",
    "version": 3
   },
   "file_extension": ".py",
   "mimetype": "text/x-python",
   "name": "python",
   "nbconvert_exporter": "python",
   "pygments_lexer": "ipython3",
   "version": "3.8.8"
  }
 },
 "nbformat": 4,
 "nbformat_minor": 5
}
